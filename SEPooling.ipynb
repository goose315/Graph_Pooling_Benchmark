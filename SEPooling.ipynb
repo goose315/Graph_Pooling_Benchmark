{
    "cells": [
        {
            "cell_type": "markdown",
            "metadata": {},
            "source": [
                "# Node classification"
            ]
        },
        {
            "cell_type": "code",
            "execution_count": 45,
            "metadata": {},
            "outputs": [
                {
                    "name": "stdout",
                    "output_type": "stream",
                    "text": [
                        "Namespace(dataset='Cora', conv='GCN', num_blocks=1, tree_depth=2, lr=0.01, hidden_dim=256, conv_dropout=0.5, pooling_dropout=0.5, l2rate=0.0005, num_epochs=1000, global_degree=False, link_input=False, seed=42, patience=150, gpu=0)\n",
                        "0.8280\t0.8330\t289\n",
                        "Namespace(dataset='Cora', conv='GCN', num_blocks=1, tree_depth=2, lr=0.01, hidden_dim=256, conv_dropout=0.5, pooling_dropout=0.5, l2rate=0.0005, num_epochs=1000, global_degree=False, link_input=False, seed=43, patience=150, gpu=0)\n",
                        "0.8250\t0.8300\t270\n",
                        "Namespace(dataset='Cora', conv='GCN', num_blocks=1, tree_depth=2, lr=0.01, hidden_dim=256, conv_dropout=0.5, pooling_dropout=0.5, l2rate=0.0005, num_epochs=1000, global_degree=False, link_input=False, seed=44, patience=150, gpu=0)\n",
                        "0.8270\t0.8320\t259\n"
                    ]
                }
            ],
            "source": "!python /data1/Pooling/SEP/SEPN/trainer_sepu_args.py --dataset Cora --num_blocks 1 --tree_depth 2 --lr 0.01 --hidden_dim 256 --conv_dropout 0.5 --pooling_dropout 0.5 --l2rate 5e-4 --num_epochs 1000 --seed 42\n!python /data1/Pooling/SEP/SEPN/trainer_sepu_args.py --dataset Cora --num_blocks 1 --tree_depth 2 --lr 0.01 --hidden_dim 256 --conv_dropout 0.5 --pooling_dropout 0.5 --l2rate 5e-4 --num_epochs 1000 --seed 43\n!python /data1/Pooling/SEP/SEPN/trainer_sepu_args.py --dataset Cora --num_blocks 1 --tree_depth 2 --lr 0.01 --hidden_dim 256 --conv_dropout 0.5 --pooling_dropout 0.5 --l2rate 5e-4 --num_epochs 1000 --seed 44"
        },
        {
            "cell_type": "code",
            "execution_count": 46,
            "metadata": {},
            "outputs": [
                {
                    "name": "stdout",
                    "output_type": "stream",
                    "text": [
                        "Namespace(dataset='CiteSeer', conv='GCN', num_blocks=1, tree_depth=2, lr=0.01, hidden_dim=256, conv_dropout=0.5, pooling_dropout=0.5, l2rate=0.0005, num_epochs=1000, global_degree=False, link_input=True, seed=42, patience=150, gpu=0)\n",
                        "0.6930\t0.7000\t282\n",
                        "Namespace(dataset='CiteSeer', conv='GCN', num_blocks=1, tree_depth=2, lr=0.01, hidden_dim=256, conv_dropout=0.5, pooling_dropout=0.5, l2rate=0.0005, num_epochs=1000, global_degree=False, link_input=True, seed=43, patience=150, gpu=0)\n",
                        "0.6940\t0.7060\t214\n",
                        "Namespace(dataset='CiteSeer', conv='GCN', num_blocks=1, tree_depth=2, lr=0.01, hidden_dim=256, conv_dropout=0.5, pooling_dropout=0.5, l2rate=0.0005, num_epochs=1000, global_degree=False, link_input=True, seed=44, patience=150, gpu=0)\n",
                        "0.7060\t0.7080\t259\n"
                    ]
                }
            ],
            "source": "!python /data1/Pooling/SEP/SEPN/trainer_sepu_args.py --dataset CiteSeer --num_blocks 1 --tree_depth 2 --lr 0.01 --hidden_dim 256 --conv_dropout 0.5 --pooling_dropout 0.5 --l2rate 5e-4 --num_epochs 1000 --seed 42\n!python /data1/Pooling/SEP/SEPN/trainer_sepu_args.py --dataset CiteSeer --num_blocks 1 --tree_depth 2 --lr 0.01 --hidden_dim 256 --conv_dropout 0.5 --pooling_dropout 0.5 --l2rate 5e-4 --num_epochs 1000 --seed 43\n!python /data1/Pooling/SEP/SEPN/trainer_sepu_args.py --dataset CiteSeer --num_blocks 1 --tree_depth 2 --lr 0.01 --hidden_dim 256 --conv_dropout 0.5 --pooling_dropout 0.5 --l2rate 5e-4 --num_epochs 1000 --seed 44"
        },
        {
            "cell_type": "code",
            "execution_count": 47,
            "metadata": {},
            "outputs": [
                {
                    "name": "stdout",
                    "output_type": "stream",
                    "text": [
                        "Namespace(dataset='PubMed', conv='GCN', num_blocks=2, tree_depth=3, lr=0.01, hidden_dim=256, conv_dropout=0.5, pooling_dropout=0.5, l2rate=0.0005, num_epochs=1000, global_degree=False, link_input=True, seed=42, patience=150, gpu=0)\n",
                        "0.7920\t0.8020\t508\n",
                        "Namespace(dataset='PubMed', conv='GCN', num_blocks=2, tree_depth=3, lr=0.01, hidden_dim=256, conv_dropout=0.5, pooling_dropout=0.5, l2rate=0.0005, num_epochs=1000, global_degree=False, link_input=True, seed=43, patience=150, gpu=0)\n",
                        "0.7730\t0.7810\t232\n",
                        "Namespace(dataset='PubMed', conv='GCN', num_blocks=2, tree_depth=3, lr=0.01, hidden_dim=256, conv_dropout=0.5, pooling_dropout=0.5, l2rate=0.0005, num_epochs=1000, global_degree=False, link_input=True, seed=44, patience=150, gpu=0)\n",
                        "0.7820\t0.7970\t268\n"
                    ]
                }
            ],
            "source": "!python /data1/Pooling/SEP/SEPN/trainer_sepu_args.py --dataset PubMed --num_blocks 2 --tree_depth 3 --lr 0.01 --hidden_dim 256 --conv_dropout 0.5 --pooling_dropout 0.5 --l2rate 5e-4 --num_epochs 1000 --seed 42\n!python /data1/Pooling/SEP/SEPN/trainer_sepu_args.py --dataset PubMed --num_blocks 2 --tree_depth 3 --lr 0.01 --hidden_dim 256 --conv_dropout 0.5 --pooling_dropout 0.5 --l2rate 5e-4 --num_epochs 1000 --seed 43\n!python /data1/Pooling/SEP/SEPN/trainer_sepu_args.py --dataset PubMed --num_blocks 2 --tree_depth 3 --lr 0.01 --hidden_dim 256 --conv_dropout 0.5 --pooling_dropout 0.5 --l2rate 5e-4 --num_epochs 1000 --seed 44"
        },
        {
            "cell_type": "code",
            "execution_count": 40,
            "metadata": {},
            "outputs": [
                {
                    "name": "stdout",
                    "output_type": "stream",
                    "text": [
                        "Namespace(dataset='cornell', conv='GCN', num_blocks=4, tree_depth=5, lr=0.01, hidden_dim=256, conv_dropout=0.4, pooling_dropout=0.4, l2rate=0.0005, num_epochs=1000, global_degree=False, link_input=True, seed=42, patience=150, gpu=0)\n",
                        "0.4865\t0.5135\t176\n",
                        "Namespace(dataset='cornell', conv='GCN', num_blocks=4, tree_depth=5, lr=0.01, hidden_dim=256, conv_dropout=0.4, pooling_dropout=0.4, l2rate=0.0005, num_epochs=1000, global_degree=False, link_input=True, seed=43, patience=150, gpu=0)\n",
                        "0.4865\t0.5135\t436\n",
                        "Namespace(dataset='cornell', conv='GCN', num_blocks=4, tree_depth=5, lr=0.01, hidden_dim=256, conv_dropout=0.4, pooling_dropout=0.4, l2rate=0.0005, num_epochs=1000, global_degree=False, link_input=True, seed=44, patience=150, gpu=0)\n",
                        "0.4595\t0.5135\t178\n"
                    ]
                }
            ],
            "source": "!python /data1/Pooling/SEP/SEPN/trainer_sepu_args.py --dataset cornell --num_blocks 4 --tree_depth 5 --lr 0.01 --hidden_dim 256 --conv_dropout 0.4 --pooling_dropout 0.4 --l2rate 5e-4 --num_epochs 1000 --seed 42\n!python /data1/Pooling/SEP/SEPN/trainer_sepu_args.py --dataset cornell --num_blocks 4 --tree_depth 5 --lr 0.01 --hidden_dim 256 --conv_dropout 0.4 --pooling_dropout 0.4 --l2rate 5e-4 --num_epochs 1000 --seed 43\n!python /data1/Pooling/SEP/SEPN/trainer_sepu_args.py --dataset cornell --num_blocks 4 --tree_depth 5 --lr 0.01 --hidden_dim 256 --conv_dropout 0.4 --pooling_dropout 0.4 --l2rate 5e-4 --num_epochs 1000 --seed 44"
        },
        {
            "cell_type": "code",
            "execution_count": 2,
            "metadata": {},
            "outputs": [
                {
                    "name": "stdout",
                    "output_type": "stream",
                    "text": [
                        "Namespace(dataset='texas', conv='GCN', num_blocks=5, tree_depth=6, lr=0.01, hidden_dim=256, conv_dropout=0.4, pooling_dropout=0.4, l2rate=0.0005, num_epochs=1000, global_degree=False, link_input=False, seed=42, patience=150, gpu=0)\n",
                        "0.6486\t0.6486\t151\n",
                        "Namespace(dataset='texas', conv='GCN', num_blocks=5, tree_depth=6, lr=0.01, hidden_dim=256, conv_dropout=0.4, pooling_dropout=0.4, l2rate=0.0005, num_epochs=1000, global_degree=False, link_input=False, seed=43, patience=150, gpu=0)\n",
                        "0.6486\t0.6486\t151\n",
                        "Namespace(dataset='texas', conv='GCN', num_blocks=5, tree_depth=6, lr=0.01, hidden_dim=256, conv_dropout=0.4, pooling_dropout=0.4, l2rate=0.0005, num_epochs=1000, global_degree=False, link_input=False, seed=44, patience=150, gpu=0)\n",
                        "0.4865\t0.7027\t186\n"
                    ]
                }
            ],
            "source": "!python /data1/Pooling/SEP/SEPN/trainer_sepu_args.py --dataset texas --num_blocks 5 --tree_depth 6 --lr 0.01 --hidden_dim 256 --conv_dropout 0.4 --pooling_dropout 0.4 --l2rate 5e-4 --num_epochs 1000 --seed 42\n!python /data1/Pooling/SEP/SEPN/trainer_sepu_args.py --dataset texas --num_blocks 5 --tree_depth 6 --lr 0.01 --hidden_dim 256 --conv_dropout 0.4 --pooling_dropout 0.4 --l2rate 5e-4 --num_epochs 1000 --seed 43\n!python /data1/Pooling/SEP/SEPN/trainer_sepu_args.py --dataset texas --num_blocks 5 --tree_depth 6 --lr 0.01 --hidden_dim 256 --conv_dropout 0.4 --pooling_dropout 0.4 --l2rate 5e-4 --num_epochs 1000 --seed 44"
        },
        {
            "cell_type": "code",
            "execution_count": 4,
            "metadata": {},
            "outputs": [
                {
                    "name": "stdout",
                    "output_type": "stream",
                    "text": [
                        "Namespace(dataset='wisconsin', conv='GCN', num_blocks=1, tree_depth=2, lr=0.01, hidden_dim=256, conv_dropout=0.4, pooling_dropout=0.4, l2rate=0.0005, num_epochs=1000, global_degree=False, link_input=False, seed=42, patience=150, gpu=0)\n",
                        "0.4902\t0.5686\t163\n",
                        "Namespace(dataset='wisconsin', conv='GCN', num_blocks=1, tree_depth=2, lr=0.01, hidden_dim=256, conv_dropout=0.4, pooling_dropout=0.4, l2rate=0.0005, num_epochs=1000, global_degree=False, link_input=False, seed=43, patience=150, gpu=0)\n",
                        "0.4510\t0.5882\t185\n",
                        "Namespace(dataset='wisconsin', conv='GCN', num_blocks=1, tree_depth=2, lr=0.01, hidden_dim=256, conv_dropout=0.4, pooling_dropout=0.4, l2rate=0.0005, num_epochs=1000, global_degree=False, link_input=False, seed=44, patience=150, gpu=0)\n",
                        "0.4510\t0.5686\t186\n"
                    ]
                }
            ],
            "source": "!python /data1/Pooling/SEP/SEPN/trainer_sepu_args.py --dataset wisconsin --num_blocks 1 --tree_depth 2 --lr 0.01 --hidden_dim 256 --conv_dropout 0.4 --pooling_dropout 0.4 --l2rate 5e-4 --num_epochs 1000 --seed 42\n!python /data1/Pooling/SEP/SEPN/trainer_sepu_args.py --dataset wisconsin --num_blocks 1 --tree_depth 2 --lr 0.01 --hidden_dim 256 --conv_dropout 0.4 --pooling_dropout 0.4 --l2rate 5e-4 --num_epochs 1000 --seed 43\n!python /data1/Pooling/SEP/SEPN/trainer_sepu_args.py --dataset wisconsin --num_blocks 1 --tree_depth 2 --lr 0.01 --hidden_dim 256 --conv_dropout 0.4 --pooling_dropout 0.4 --l2rate 5e-4 --num_epochs 1000 --seed 44"
        },
        {
            "cell_type": "markdown",
            "metadata": {},
            "source": [
                "# Graph Classification"
            ]
        },
        {
            "cell_type": "code",
            "execution_count": 28,
            "metadata": {},
            "outputs": [
                {
                    "name": "stdout",
                    "output_type": "stream",
                    "text": [
                        "loading data\n",
                        "# data: 1000\tlabel:2\n",
                        "loading data\n",
                        "# data: 1500\tlabel:3\n",
                        "loading data\n",
                        "# data: 5000\tlabel:3\n",
                        "loading data\n",
                        "# data: 188\tlabel:2\n",
                        "loading data\n",
                        "# data: 1113\tlabel:2\n",
                        "loading data\n",
                        "# data: 4110\tlabel:2\n",
                        "loading data\n",
                        "# data: 4127\tlabel:2\n",
                        "loading data\n",
                        "# data: 1178\tlabel:2\n"
                    ]
                }
            ],
            "source": "!python /data1/Pooling/SEP/SEPG/trans_graph.py"
        },
        {
            "cell_type": "code",
            "execution_count": 1,
            "metadata": {},
            "outputs": [
                {
                    "name": "stdout",
                    "output_type": "stream",
                    "text": [
                        "IMDB-BINARY\tGCN\t3\taverage\t128\t256\t0.0\t1\tFalse\n",
                        "cuda:0\n",
                        "0.7310\t0.0556\t0.7650\t0.0443\t782.88\n",
                        "IMDB-BINARY\tGCN\t3\taverage\t128\t256\t0.0\t2\tFalse\n",
                        "cuda:0\n",
                        "0.7150\t0.0537\t0.7660\t0.0347\t796.98\n",
                        "IMDB-BINARY\tGCN\t3\taverage\t128\t256\t0.0\t3\tFalse\n",
                        "cuda:0\n",
                        "0.7280\t0.0513\t0.7690\t0.0421\t789.85\n"
                    ]
                }
            ],
            "source": "!python /data1/Pooling/SEP/SEPG/trainer_sep_args.py --dataset IMDB-BINARY --num-head 1 --tree_depth 3 --hidden_dim 128 --batch_size 256 --num_epochs 150 --seed 42 --final_dropout 0 --global-pooling average\n!python /data1/Pooling/SEP/SEPG/trainer_sep_args.py --dataset IMDB-BINARY --num-head 2 --tree_depth 3 --hidden_dim 128 --batch_size 256 --num_epochs 150 --seed 42 --final_dropout 0 --global-pooling average\n!python /data1/Pooling/SEP/SEPG/trainer_sep_args.py --dataset IMDB-BINARY --num-head 3 --tree_depth 3 --hidden_dim 128 --batch_size 256 --num_epochs 150 --seed 42 --final_dropout 0 --global-pooling average"
        },
        {
            "cell_type": "code",
            "execution_count": 2,
            "metadata": {},
            "outputs": [
                {
                    "name": "stdout",
                    "output_type": "stream",
                    "text": [
                        "IMDB-MULTI\tGCN\t3\taverage\t128\t256\t0.0\t1\tFalse\n",
                        "cuda:0\n",
                        "0.4947\t0.0350\t0.5347\t0.0399\t847.35\n",
                        "IMDB-MULTI\tGCN\t3\taverage\t128\t256\t0.0\t2\tFalse\n",
                        "cuda:0\n",
                        "0.4987\t0.0322\t0.5393\t0.0399\t785.58\n",
                        "IMDB-MULTI\tGCN\t3\taverage\t128\t256\t0.0\t3\tFalse\n",
                        "cuda:0\n",
                        "0.4927\t0.0426\t0.5400\t0.0388\t911.90\n"
                    ]
                }
            ],
            "source": "!python /data1/Pooling/SEP/SEPG/trainer_sep_args.py --dataset IMDB-MULTI --num-head 1 --tree_depth 3 --hidden_dim 128 --batch_size 256 --num_epochs 150 --seed 42 --final_dropout 0 --global-pooling average\n!python /data1/Pooling/SEP/SEPG/trainer_sep_args.py --dataset IMDB-MULTI --num-head 2 --tree_depth 3 --hidden_dim 128 --batch_size 256 --num_epochs 150 --seed 42 --final_dropout 0 --global-pooling average\n!python /data1/Pooling/SEP/SEPG/trainer_sep_args.py --dataset IMDB-MULTI --num-head 3 --tree_depth 3 --hidden_dim 128 --batch_size 256 --num_epochs 150 --seed 42 --final_dropout 0 --global-pooling average"
        },
        {
            "cell_type": "code",
            "execution_count": 3,
            "metadata": {},
            "outputs": [
                {
                    "name": "stdout",
                    "output_type": "stream",
                    "text": [
                        "PROTEINS\tGCN\t3\taverage\t128\t256\t0.0\t1\tFalse\n",
                        "cuda:0\n",
                        "0.6000\t0.0487\t0.6225\t0.0457\t1367.19\n",
                        "PROTEINS\tGCN\t3\taverage\t128\t256\t0.0\t2\tFalse\n",
                        "cuda:0\n",
                        "0.6009\t0.0470\t0.6207\t0.0438\t1920.12\n",
                        "PROTEINS\tGCN\t3\taverage\t128\t256\t0.0\t3\tFalse\n",
                        "cuda:0\n",
                        "0.6009\t0.0458\t0.6207\t0.0483\t2224.30\n"
                    ]
                }
            ],
            "source": "!python /data1/Pooling/SEP/SEPG/trainer_sep_args.py --dataset PROTEINS --num-head 1 --tree_depth 3 --hidden_dim 128 --batch_size 256 --num_epochs 150 --seed 42 --final_dropout 0 --global-pooling average\n!python /data1/Pooling/SEP/SEPG/trainer_sep_args.py --dataset PROTEINS --num-head 2 --tree_depth 3 --hidden_dim 128 --batch_size 256 --num_epochs 150 --seed 42 --final_dropout 0 --global-pooling average\n!python /data1/Pooling/SEP/SEPG/trainer_sep_args.py --dataset PROTEINS --num-head 3 --tree_depth 3 --hidden_dim 128 --batch_size 256 --num_epochs 150 --seed 42 --final_dropout 0 --global-pooling average"
        },
        {
            "cell_type": "code",
            "execution_count": 4,
            "metadata": {},
            "outputs": [
                {
                    "name": "stdout",
                    "output_type": "stream",
                    "text": [
                        "COLLAB\tGCN\t3\taverage\t128\t512\t0.0\t1\tFalse\n",
                        "cuda:0\n",
                        "0.7500\t0.0182\t0.7564\t0.0204\t5555.58\n"
                    ]
                }
            ],
            "source": "!python /data1/Pooling/SEP/SEPG/trainer_sep_args.py --dataset COLLAB --num-head 1 --tree_depth 3 --hidden_dim 128 --batch_size 512 --num_epochs 150 --seed 42 --final_dropout 0 --global-pooling average"
        },
        {
            "cell_type": "code",
            "execution_count": 5,
            "metadata": {},
            "outputs": [
                {
                    "name": "stdout",
                    "output_type": "stream",
                    "text": [
                        "MUTAG\tGCN\t3\taverage\t128\t256\t0.0\t1\tFalse\n",
                        "cuda:0\n",
                        "0.6722\t0.0841\t0.6722\t0.0841\t781.51\n",
                        "MUTAG\tGCN\t3\taverage\t128\t256\t0.0\t2\tFalse\n",
                        "cuda:0\n",
                        "0.6722\t0.0841\t0.6722\t0.0841\t747.30\n",
                        "MUTAG\tGCN\t3\taverage\t128\t256\t0.0\t3\tFalse\n",
                        "cuda:0\n",
                        "0.6722\t0.0841\t0.6722\t0.0841\t566.82\n"
                    ]
                }
            ],
            "source": "!python /data1/Pooling/SEP/SEPG/trainer_sep_args.py --dataset MUTAG --num-head 1 --tree_depth 3 --hidden_dim 128 --batch_size 256 --num_epochs 150 --seed 42 --final_dropout 0 --global-pooling average\n!python /data1/Pooling/SEP/SEPG/trainer_sep_args.py --dataset MUTAG --num-head 2 --tree_depth 3 --hidden_dim 128 --batch_size 256 --num_epochs 150 --seed 42 --final_dropout 0 --global-pooling average\n!python /data1/Pooling/SEP/SEPG/trainer_sep_args.py --dataset MUTAG --num-head 3 --tree_depth 3 --hidden_dim 128 --batch_size 256 --num_epochs 150 --seed 42 --final_dropout 0 --global-pooling average"
        },
        {
            "cell_type": "code",
            "execution_count": 6,
            "metadata": {},
            "outputs": [
                {
                    "name": "stdout",
                    "output_type": "stream",
                    "text": [
                        "DD\tGCN\t3\taverage\t128\t256\t0.0\t1\tFalse\n",
                        "cuda:0\n",
                        "0.7624\t0.0308\t0.8026\t0.0304\t22044.33\n"
                    ]
                }
            ],
            "source": "!python /data1/Pooling/SEP/SEPG/trainer_sep_args.py --dataset DD --num-head 1 --tree_depth 3 --hidden_dim 128 --batch_size 256 --num_epochs 150 --seed 42 --final_dropout 0 --global-pooling average"
        },
        {
            "cell_type": "code",
            "execution_count": 12,
            "metadata": {},
            "outputs": [
                {
                    "name": "stdout",
                    "output_type": "stream",
                    "text": [
                        "NCI1\tGCN\t3\tsum\t128\t256\t0.0\t1\tFalse\n",
                        "cuda:0\n",
                        "0.6044\t0.0327\t0.6273\t0.0249\t307.13\n",
                        "NCI1\tGCN\t3\tsum\t128\t256\t0.0\t2\tFalse\n",
                        "cuda:0\n",
                        "0.6054\t0.0263\t0.6251\t0.0224\t269.98\n",
                        "NCI1\tGCN\t3\tsum\t128\t256\t0.0\t3\tFalse\n",
                        "cuda:0\n",
                        "0.6117\t0.0276\t0.6255\t0.0235\t252.27\n",
                        "NCI1\tGCN\t3\tsum\t128\t256\t0.0\t4\tFalse\n",
                        "cuda:0\n",
                        "0.6078\t0.0295\t0.6277\t0.0225\t286.53\n"
                    ]
                }
            ],
            "source": "!python /data1/Pooling/SEP/SEPG/trainer_sep_args.py --dataset NCI1 --num-head 1 --tree_depth 3 --hidden_dim 128 --batch_size 256 --num_epochs 150 --seed 42 --final_dropout 0 --global-pooling sum\n!python /data1/Pooling/SEP/SEPG/trainer_sep_args.py --dataset NCI1 --num-head 2 --tree_depth 3 --hidden_dim 128 --batch_size 256 --num_epochs 150 --seed 42 --final_dropout 0 --global-pooling sum\n!python /data1/Pooling/SEP/SEPG/trainer_sep_args.py --dataset NCI1 --num-head 3 --tree_depth 3 --hidden_dim 128 --batch_size 256 --num_epochs 150 --seed 42 --final_dropout 0 --global-pooling sum\n!python /data1/Pooling/SEP/SEPG/trainer_sep_args.py --dataset NCI1 --num-head 4 --tree_depth 3 --hidden_dim 128 --batch_size 256 --num_epochs 500 --seed 42 --final_dropout 0 --global-pooling sum"
        },
        {
            "cell_type": "code",
            "execution_count": 13,
            "metadata": {},
            "outputs": [
                {
                    "name": "stdout",
                    "output_type": "stream",
                    "text": [
                        "NCI109\tGCN\t3\tsum\t128\t256\t0.0\t1\tFalse\n",
                        "cuda:0\n",
                        "0.6112\t0.0242\t0.6340\t0.0209\t332.92\n",
                        "NCI109\tGCN\t3\tsum\t128\t256\t0.0\t2\tFalse\n",
                        "cuda:0\n",
                        "0.6107\t0.0227\t0.6340\t0.0210\t308.71\n",
                        "NCI109\tGCN\t3\tsum\t128\t256\t0.0\t3\tFalse\n",
                        "cuda:0\n",
                        "0.6184\t0.0272\t0.6374\t0.0230\t298.02\n",
                        "NCI109\tGCN\t3\tsum\t128\t256\t0.0\t4\tFalse\n",
                        "cuda:0\n",
                        "0.6104\t0.0225\t0.6359\t0.0233\t308.99\n"
                    ]
                }
            ],
            "source": "!python /data1/Pooling/SEP/SEPG/trainer_sep_args.py --dataset NCI109 --num-head 1 --tree_depth 3 --hidden_dim 128 --batch_size 256 --num_epochs 150 --seed 42 --final_dropout 0 --global-pooling sum\n!python /data1/Pooling/SEP/SEPG/trainer_sep_args.py --dataset NCI109 --num-head 2 --tree_depth 3 --hidden_dim 128 --batch_size 256 --num_epochs 150 --seed 42 --final_dropout 0 --global-pooling sum\n!python /data1/Pooling/SEP/SEPG/trainer_sep_args.py --dataset NCI109 --num-head 3 --tree_depth 3 --hidden_dim 128 --batch_size 256 --num_epochs 150 --seed 42 --final_dropout 0 --global-pooling sum\n!python /data1/Pooling/SEP/SEPG/trainer_sep_args.py --dataset NCI109 --num-head 4 --tree_depth 3 --hidden_dim 128 --batch_size 256 --num_epochs 150 --seed 42 --final_dropout 0 --global-pooling sum"
        }
    ],
    "metadata": {
        "kernelspec": {
            "display_name": "CG-ODE",
            "language": "python",
            "name": "python3"
        },
        "language_info": {
            "codemirror_mode": {
                "name": "ipython",
                "version": 3
            },
            "file_extension": ".py",
            "mimetype": "text/x-python",
            "name": "python",
            "nbconvert_exporter": "python",
            "pygments_lexer": "ipython3",
            "version": "3.9.16"
        }
    },
    "nbformat": 4,
    "nbformat_minor": 2
}